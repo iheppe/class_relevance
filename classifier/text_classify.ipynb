{
 "cells": [
  {
   "cell_type": "code",
   "execution_count": 1,
   "metadata": {},
   "outputs": [],
   "source": [
    "from classifier import *\n",
    "import matplotlib.pyplot as plt\n",
    "%matplotlib inline"
   ]
  },
  {
   "cell_type": "code",
   "execution_count": 2,
   "metadata": {},
   "outputs": [],
   "source": [
    "# Get training data and labels\n",
    "train_data, label_data = get_train_data('train.txt')\n",
    "\n",
    "# Number of data points to use for training \n",
    "num_train = train_data.shape[2]\n",
    "\n",
    "# Batch size for each epoch \n",
    "batch_size = train_data.shape[2]\n",
    "\n",
    "# Create dataset and dataloader\n",
    "reshaped_train = []\n",
    "reshaped_label = []\n",
    "for i in range(num_train):\n",
    "    reshaped_train.append(train_data[:, :, i])\n",
    "    reshaped_label.append(label_data[i, :])\n",
    "datatrain_tensor = torch.FloatTensor(reshaped_train)\n",
    "labeltrain_tensor = torch.FloatTensor(reshaped_label)\n",
    "train_dataset = dataset(datatrain_tensor, labeltrain_tensor)\n",
    "train_dataloader = DataLoader(train_dataset, batch_size=batch_size, shuffle=True)"
   ]
  },
  {
   "cell_type": "code",
   "execution_count": 3,
   "metadata": {},
   "outputs": [
    {
     "name": "stdout",
     "output_type": "stream",
     "text": [
      "Training the model...\n",
      "Starting epoch 0\n",
      "Starting epoch 10000\n",
      "Starting epoch 20000\n",
      "Training complete!\n"
     ]
    },
    {
     "data": {
      "image/png": "[encoded data removed]",
      "text/plain": [
       "<Figure size 450x300 with 1 Axes>"
      ]
     },
     "metadata": {
      "needs_background": "light"
     },
     "output_type": "display_data"
    }
   ],
   "source": [
    "# Number of training epochs to use \n",
    "num_epochs = 20001\n",
    "\n",
    "# Learning rate of the model\n",
    "learning_rate = 1e-3\n",
    "\n",
    "# Mean-squared error loss\n",
    "criterion = nn.MSELoss()\n",
    "\n",
    "# Use gpu if available\n",
    "device = torch.device('cuda' if torch.cuda.is_available() else 'cpu')\n",
    "\n",
    "# Create a model from  autoencoder class and load to device\n",
    "model = text_classifier(train_data.shape[0], train_data.shape[1]).to(device) \n",
    "\n",
    "# Adam optimizer object\n",
    "optimizer = torch.optim.Adam(model.parameters(), lr=learning_rate)\n",
    "\n",
    "loss_history = []\n",
    "print('Training the model...')\n",
    "for epoch in range(num_epochs):\n",
    "    if (epoch % 10000 == 0): \n",
    "        print('Starting epoch {}'.format(epoch))\n",
    "    loss = 0\n",
    "    for data in train_dataloader:\n",
    "        \n",
    "        # Get train data and labels \n",
    "        input1, input2 = data\n",
    "        x_1 = input1.to(device)\n",
    "        x_2 = input2.to(device)\n",
    "        \n",
    "        # Reset the gradients back to zero\n",
    "        optimizer.zero_grad()\n",
    "        \n",
    "        # Train \n",
    "        output = model(x_1.unsqueeze(1))\n",
    "        loss = criterion(output, x_2)\n",
    "        \n",
    "        # compute accumulated gradients\n",
    "        train_loss = loss\n",
    "        train_loss.backward()\n",
    "        \n",
    "        # perform parameter update based on current gradients\n",
    "        optimizer.step()\n",
    "        \n",
    "        # add the mini-batch training loss to epoch loss\n",
    "        loss += train_loss.item()\n",
    "\n",
    "    loss_history.append(loss)\n",
    "    \n",
    "print('Training complete!')\n",
    "\n",
    "# Plot loss across epochs \n",
    "plt.figure(dpi=75)\n",
    "plt.title('Loss History')\n",
    "plt.semilogy(np.array(loss_history))\n",
    "plt.xlabel('Epoch')\n",
    "plt.ylabel('Loss')\n",
    "plt.show()"
   ]
  },
  {
   "cell_type": "code",
   "execution_count": 4,
   "metadata": {},
   "outputs": [],
   "source": [
    "# Save results\n",
    "np.save('train_data.npy', train_data)\n",
    "np.save('label_data.npy', label_data)\n",
    "torch.save(model.state_dict(), 'auto.pth')"
   ]
  },
  {
   "cell_type": "code",
   "execution_count": null,
   "metadata": {},
   "outputs": [],
   "source": []
  }
 ],
 "metadata": {
  "kernelspec": {
   "display_name": "Python 3",
   "language": "python",
   "name": "python3"
  },
  "language_info": {
   "codemirror_mode": {
    "name": "ipython",
    "version": 3
   },
   "file_extension": ".py",
   "mimetype": "text/x-python",
   "name": "python",
   "nbconvert_exporter": "python",
   "pygments_lexer": "ipython3",
   "version": "3.7.6"
  }
 },
 "nbformat": 4,
 "nbformat_minor": 4
}
